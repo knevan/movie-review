{
 "cells": [
  {
   "cell_type": "markdown",
   "id": "3b4a9ec8",
   "metadata": {},
   "source": [
    "# NLP Movie Review"
   ]
  },
  {
   "cell_type": "code",
   "execution_count": 1,
   "id": "bcd0c2b5",
   "metadata": {},
   "outputs": [
    {
     "data": {
      "text/html": [
       "<div>\n",
       "<style scoped>\n",
       "    .dataframe tbody tr th:only-of-type {\n",
       "        vertical-align: middle;\n",
       "    }\n",
       "\n",
       "    .dataframe tbody tr th {\n",
       "        vertical-align: top;\n",
       "    }\n",
       "\n",
       "    .dataframe thead th {\n",
       "        text-align: right;\n",
       "    }\n",
       "</style>\n",
       "<table border=\"1\" class=\"dataframe\">\n",
       "  <thead>\n",
       "    <tr style=\"text-align: right;\">\n",
       "      <th></th>\n",
       "      <th>review</th>\n",
       "      <th>sentiment</th>\n",
       "    </tr>\n",
       "  </thead>\n",
       "  <tbody>\n",
       "    <tr>\n",
       "      <th>0</th>\n",
       "      <td>One of the other reviewers has mentioned that ...</td>\n",
       "      <td>positive</td>\n",
       "    </tr>\n",
       "    <tr>\n",
       "      <th>1</th>\n",
       "      <td>A wonderful little production. &lt;br /&gt;&lt;br /&gt;The...</td>\n",
       "      <td>positive</td>\n",
       "    </tr>\n",
       "    <tr>\n",
       "      <th>2</th>\n",
       "      <td>I thought this was a wonderful way to spend ti...</td>\n",
       "      <td>positive</td>\n",
       "    </tr>\n",
       "    <tr>\n",
       "      <th>3</th>\n",
       "      <td>Basically there's a family where a little boy ...</td>\n",
       "      <td>negative</td>\n",
       "    </tr>\n",
       "    <tr>\n",
       "      <th>4</th>\n",
       "      <td>Petter Mattei's \"Love in the Time of Money\" is...</td>\n",
       "      <td>positive</td>\n",
       "    </tr>\n",
       "    <tr>\n",
       "      <th>...</th>\n",
       "      <td>...</td>\n",
       "      <td>...</td>\n",
       "    </tr>\n",
       "    <tr>\n",
       "      <th>49995</th>\n",
       "      <td>I thought this movie did a down right good job...</td>\n",
       "      <td>positive</td>\n",
       "    </tr>\n",
       "    <tr>\n",
       "      <th>49996</th>\n",
       "      <td>Bad plot, bad dialogue, bad acting, idiotic di...</td>\n",
       "      <td>negative</td>\n",
       "    </tr>\n",
       "    <tr>\n",
       "      <th>49997</th>\n",
       "      <td>I am a Catholic taught in parochial elementary...</td>\n",
       "      <td>negative</td>\n",
       "    </tr>\n",
       "    <tr>\n",
       "      <th>49998</th>\n",
       "      <td>I'm going to have to disagree with the previou...</td>\n",
       "      <td>negative</td>\n",
       "    </tr>\n",
       "    <tr>\n",
       "      <th>49999</th>\n",
       "      <td>No one expects the Star Trek movies to be high...</td>\n",
       "      <td>negative</td>\n",
       "    </tr>\n",
       "  </tbody>\n",
       "</table>\n",
       "<p>50000 rows × 2 columns</p>\n",
       "</div>"
      ],
      "text/plain": [
       "                                                  review sentiment\n",
       "0      One of the other reviewers has mentioned that ...  positive\n",
       "1      A wonderful little production. <br /><br />The...  positive\n",
       "2      I thought this was a wonderful way to spend ti...  positive\n",
       "3      Basically there's a family where a little boy ...  negative\n",
       "4      Petter Mattei's \"Love in the Time of Money\" is...  positive\n",
       "...                                                  ...       ...\n",
       "49995  I thought this movie did a down right good job...  positive\n",
       "49996  Bad plot, bad dialogue, bad acting, idiotic di...  negative\n",
       "49997  I am a Catholic taught in parochial elementary...  negative\n",
       "49998  I'm going to have to disagree with the previou...  negative\n",
       "49999  No one expects the Star Trek movies to be high...  negative\n",
       "\n",
       "[50000 rows x 2 columns]"
      ]
     },
     "execution_count": 1,
     "metadata": {},
     "output_type": "execute_result"
    }
   ],
   "source": [
    "import pandas as pd\n",
    "import numpy as np\n",
    "df=pd.read_csv('IMDB Dataset.csv')\n",
    "df"
   ]
  },
  {
   "cell_type": "code",
   "execution_count": 2,
   "id": "ca2e68cf",
   "metadata": {},
   "outputs": [
    {
     "data": {
      "text/plain": [
       "\"this short film that inspired the soon-to-be full length feature - spatula madness - is a hilarious piece that contends against similar cartoons yielding multiple writers. the short film stars edward the spatula who after being fired from his job, joins in the fight against the evil spoons. this premise allows for some funny content near the beginning, but is barely present for the remainder of the feature. this film's 15-minute running time is absorbed by some odd-ball comedy and a small musical number. unfortunately not much else lies below it. the plot that is set up doesn't really have time to show. but it's surely follows it plot better than many high-budget hollywood films. this film is worth watching at least a few times. take it for what it is, and don't expect a deep story.\""
      ]
     },
     "execution_count": 2,
     "metadata": {},
     "output_type": "execute_result"
    }
   ],
   "source": [
    "df['review'][100].lower()"
   ]
  },
  {
   "cell_type": "code",
   "execution_count": 3,
   "id": "f9f7c678",
   "metadata": {},
   "outputs": [
    {
     "data": {
      "text/html": [
       "<div>\n",
       "<style scoped>\n",
       "    .dataframe tbody tr th:only-of-type {\n",
       "        vertical-align: middle;\n",
       "    }\n",
       "\n",
       "    .dataframe tbody tr th {\n",
       "        vertical-align: top;\n",
       "    }\n",
       "\n",
       "    .dataframe thead th {\n",
       "        text-align: right;\n",
       "    }\n",
       "</style>\n",
       "<table border=\"1\" class=\"dataframe\">\n",
       "  <thead>\n",
       "    <tr style=\"text-align: right;\">\n",
       "      <th></th>\n",
       "      <th>review</th>\n",
       "      <th>sentiment</th>\n",
       "    </tr>\n",
       "  </thead>\n",
       "  <tbody>\n",
       "    <tr>\n",
       "      <th>0</th>\n",
       "      <td>one of the other reviewers has mentioned that ...</td>\n",
       "      <td>positive</td>\n",
       "    </tr>\n",
       "    <tr>\n",
       "      <th>1</th>\n",
       "      <td>a wonderful little production. &lt;br /&gt;&lt;br /&gt;the...</td>\n",
       "      <td>positive</td>\n",
       "    </tr>\n",
       "    <tr>\n",
       "      <th>2</th>\n",
       "      <td>i thought this was a wonderful way to spend ti...</td>\n",
       "      <td>positive</td>\n",
       "    </tr>\n",
       "    <tr>\n",
       "      <th>3</th>\n",
       "      <td>basically there's a family where a little boy ...</td>\n",
       "      <td>negative</td>\n",
       "    </tr>\n",
       "    <tr>\n",
       "      <th>4</th>\n",
       "      <td>petter mattei's \"love in the time of money\" is...</td>\n",
       "      <td>positive</td>\n",
       "    </tr>\n",
       "  </tbody>\n",
       "</table>\n",
       "</div>"
      ],
      "text/plain": [
       "                                              review sentiment\n",
       "0  one of the other reviewers has mentioned that ...  positive\n",
       "1  a wonderful little production. <br /><br />the...  positive\n",
       "2  i thought this was a wonderful way to spend ti...  positive\n",
       "3  basically there's a family where a little boy ...  negative\n",
       "4  petter mattei's \"love in the time of money\" is...  positive"
      ]
     },
     "execution_count": 3,
     "metadata": {},
     "output_type": "execute_result"
    }
   ],
   "source": [
    "df['review']=df['review'].str.lower()\n",
    "df.head(5)"
   ]
  },
  {
   "cell_type": "markdown",
   "id": "10727157",
   "metadata": {},
   "source": [
    "## Preprocessing"
   ]
  },
  {
   "cell_type": "markdown",
   "id": "b10331ec",
   "metadata": {},
   "source": [
    "Lower Case"
   ]
  },
  {
   "cell_type": "code",
   "execution_count": 4,
   "id": "eadfec6f",
   "metadata": {},
   "outputs": [],
   "source": [
    "import re\n",
    "\n",
    "def preprocess(text):\n",
    "    text = text.lower()\n",
    "    text = re.sub(r'[^\\w\\s]', '', text)\n",
    "    return text"
   ]
  },
  {
   "cell_type": "code",
   "execution_count": 5,
   "id": "0a7cf9aa",
   "metadata": {},
   "outputs": [
    {
     "data": {
      "text/html": [
       "<div>\n",
       "<style scoped>\n",
       "    .dataframe tbody tr th:only-of-type {\n",
       "        vertical-align: middle;\n",
       "    }\n",
       "\n",
       "    .dataframe tbody tr th {\n",
       "        vertical-align: top;\n",
       "    }\n",
       "\n",
       "    .dataframe thead th {\n",
       "        text-align: right;\n",
       "    }\n",
       "</style>\n",
       "<table border=\"1\" class=\"dataframe\">\n",
       "  <thead>\n",
       "    <tr style=\"text-align: right;\">\n",
       "      <th></th>\n",
       "      <th>review</th>\n",
       "      <th>sentiment</th>\n",
       "    </tr>\n",
       "  </thead>\n",
       "  <tbody>\n",
       "    <tr>\n",
       "      <th>0</th>\n",
       "      <td>one of the other reviewers has mentioned that ...</td>\n",
       "      <td>positive</td>\n",
       "    </tr>\n",
       "    <tr>\n",
       "      <th>1</th>\n",
       "      <td>a wonderful little production br br the filmin...</td>\n",
       "      <td>positive</td>\n",
       "    </tr>\n",
       "    <tr>\n",
       "      <th>2</th>\n",
       "      <td>i thought this was a wonderful way to spend ti...</td>\n",
       "      <td>positive</td>\n",
       "    </tr>\n",
       "    <tr>\n",
       "      <th>3</th>\n",
       "      <td>basically theres a family where a little boy j...</td>\n",
       "      <td>negative</td>\n",
       "    </tr>\n",
       "    <tr>\n",
       "      <th>4</th>\n",
       "      <td>petter matteis love in the time of money is a ...</td>\n",
       "      <td>positive</td>\n",
       "    </tr>\n",
       "  </tbody>\n",
       "</table>\n",
       "</div>"
      ],
      "text/plain": [
       "                                              review sentiment\n",
       "0  one of the other reviewers has mentioned that ...  positive\n",
       "1  a wonderful little production br br the filmin...  positive\n",
       "2  i thought this was a wonderful way to spend ti...  positive\n",
       "3  basically theres a family where a little boy j...  negative\n",
       "4  petter matteis love in the time of money is a ...  positive"
      ]
     },
     "execution_count": 5,
     "metadata": {},
     "output_type": "execute_result"
    }
   ],
   "source": [
    "df['review']=df['review'].apply(preprocess)\n",
    "df.head(5)"
   ]
  },
  {
   "cell_type": "markdown",
   "id": "328cd90b",
   "metadata": {},
   "source": [
    "Remove HTML Tags using Regex"
   ]
  },
  {
   "cell_type": "code",
   "execution_count": 6,
   "id": "b541c56b",
   "metadata": {},
   "outputs": [],
   "source": [
    "def remove_html_tags(text):\n",
    "    clean_pattern = re.compile('<.*?>')\n",
    "    return clean_pattern.sub('', text)"
   ]
  },
  {
   "cell_type": "code",
   "execution_count": 7,
   "id": "22a2f329",
   "metadata": {},
   "outputs": [
    {
     "data": {
      "text/html": [
       "<div>\n",
       "<style scoped>\n",
       "    .dataframe tbody tr th:only-of-type {\n",
       "        vertical-align: middle;\n",
       "    }\n",
       "\n",
       "    .dataframe tbody tr th {\n",
       "        vertical-align: top;\n",
       "    }\n",
       "\n",
       "    .dataframe thead th {\n",
       "        text-align: right;\n",
       "    }\n",
       "</style>\n",
       "<table border=\"1\" class=\"dataframe\">\n",
       "  <thead>\n",
       "    <tr style=\"text-align: right;\">\n",
       "      <th></th>\n",
       "      <th>review</th>\n",
       "      <th>sentiment</th>\n",
       "    </tr>\n",
       "  </thead>\n",
       "  <tbody>\n",
       "    <tr>\n",
       "      <th>0</th>\n",
       "      <td>one of the other reviewers has mentioned that ...</td>\n",
       "      <td>positive</td>\n",
       "    </tr>\n",
       "    <tr>\n",
       "      <th>1</th>\n",
       "      <td>a wonderful little production br br the filmin...</td>\n",
       "      <td>positive</td>\n",
       "    </tr>\n",
       "    <tr>\n",
       "      <th>2</th>\n",
       "      <td>i thought this was a wonderful way to spend ti...</td>\n",
       "      <td>positive</td>\n",
       "    </tr>\n",
       "    <tr>\n",
       "      <th>3</th>\n",
       "      <td>basically theres a family where a little boy j...</td>\n",
       "      <td>negative</td>\n",
       "    </tr>\n",
       "    <tr>\n",
       "      <th>4</th>\n",
       "      <td>petter matteis love in the time of money is a ...</td>\n",
       "      <td>positive</td>\n",
       "    </tr>\n",
       "  </tbody>\n",
       "</table>\n",
       "</div>"
      ],
      "text/plain": [
       "                                              review sentiment\n",
       "0  one of the other reviewers has mentioned that ...  positive\n",
       "1  a wonderful little production br br the filmin...  positive\n",
       "2  i thought this was a wonderful way to spend ti...  positive\n",
       "3  basically theres a family where a little boy j...  negative\n",
       "4  petter matteis love in the time of money is a ...  positive"
      ]
     },
     "execution_count": 7,
     "metadata": {},
     "output_type": "execute_result"
    }
   ],
   "source": [
    "df['review']=df['review'].apply(remove_html_tags)\n",
    "df.head(5)"
   ]
  },
  {
   "cell_type": "markdown",
   "id": "d29638f9",
   "metadata": {},
   "source": [
    "Removing URLs"
   ]
  },
  {
   "cell_type": "code",
   "execution_count": 8,
   "id": "ac82f7fd",
   "metadata": {},
   "outputs": [],
   "source": [
    "def remove_urls(text):\n",
    "    clean_pattern = re.compile(r'https?://\\S+|www\\.\\S+')\n",
    "    return clean_pattern.sub('', text)"
   ]
  },
  {
   "cell_type": "code",
   "execution_count": 9,
   "id": "fdd336c1",
   "metadata": {},
   "outputs": [
    {
     "data": {
      "text/html": [
       "<div>\n",
       "<style scoped>\n",
       "    .dataframe tbody tr th:only-of-type {\n",
       "        vertical-align: middle;\n",
       "    }\n",
       "\n",
       "    .dataframe tbody tr th {\n",
       "        vertical-align: top;\n",
       "    }\n",
       "\n",
       "    .dataframe thead th {\n",
       "        text-align: right;\n",
       "    }\n",
       "</style>\n",
       "<table border=\"1\" class=\"dataframe\">\n",
       "  <thead>\n",
       "    <tr style=\"text-align: right;\">\n",
       "      <th></th>\n",
       "      <th>review</th>\n",
       "      <th>sentiment</th>\n",
       "    </tr>\n",
       "  </thead>\n",
       "  <tbody>\n",
       "    <tr>\n",
       "      <th>0</th>\n",
       "      <td>one of the other reviewers has mentioned that ...</td>\n",
       "      <td>positive</td>\n",
       "    </tr>\n",
       "    <tr>\n",
       "      <th>1</th>\n",
       "      <td>a wonderful little production br br the filmin...</td>\n",
       "      <td>positive</td>\n",
       "    </tr>\n",
       "    <tr>\n",
       "      <th>2</th>\n",
       "      <td>i thought this was a wonderful way to spend ti...</td>\n",
       "      <td>positive</td>\n",
       "    </tr>\n",
       "    <tr>\n",
       "      <th>3</th>\n",
       "      <td>basically theres a family where a little boy j...</td>\n",
       "      <td>negative</td>\n",
       "    </tr>\n",
       "    <tr>\n",
       "      <th>4</th>\n",
       "      <td>petter matteis love in the time of money is a ...</td>\n",
       "      <td>positive</td>\n",
       "    </tr>\n",
       "  </tbody>\n",
       "</table>\n",
       "</div>"
      ],
      "text/plain": [
       "                                              review sentiment\n",
       "0  one of the other reviewers has mentioned that ...  positive\n",
       "1  a wonderful little production br br the filmin...  positive\n",
       "2  i thought this was a wonderful way to spend ti...  positive\n",
       "3  basically theres a family where a little boy j...  negative\n",
       "4  petter matteis love in the time of money is a ...  positive"
      ]
     },
     "execution_count": 9,
     "metadata": {},
     "output_type": "execute_result"
    }
   ],
   "source": [
    "df['review']=df['review'].apply(remove_urls)\n",
    "df.head(5)"
   ]
  },
  {
   "cell_type": "markdown",
   "id": "7f456cda",
   "metadata": {},
   "source": [
    "Removing Punctuation"
   ]
  },
  {
   "cell_type": "code",
   "execution_count": 10,
   "id": "1187b25b",
   "metadata": {},
   "outputs": [],
   "source": [
    "import string\n",
    "exclude=string.punctuation\n",
    "\n",
    "def remove_punctuation(text):\n",
    "    for char in exclude:\n",
    "        text=text.replace(char,'')\n",
    "    return text"
   ]
  },
  {
   "cell_type": "code",
   "execution_count": 11,
   "id": "c77c24e8",
   "metadata": {},
   "outputs": [
    {
     "data": {
      "text/html": [
       "<div>\n",
       "<style scoped>\n",
       "    .dataframe tbody tr th:only-of-type {\n",
       "        vertical-align: middle;\n",
       "    }\n",
       "\n",
       "    .dataframe tbody tr th {\n",
       "        vertical-align: top;\n",
       "    }\n",
       "\n",
       "    .dataframe thead th {\n",
       "        text-align: right;\n",
       "    }\n",
       "</style>\n",
       "<table border=\"1\" class=\"dataframe\">\n",
       "  <thead>\n",
       "    <tr style=\"text-align: right;\">\n",
       "      <th></th>\n",
       "      <th>review</th>\n",
       "      <th>sentiment</th>\n",
       "    </tr>\n",
       "  </thead>\n",
       "  <tbody>\n",
       "    <tr>\n",
       "      <th>0</th>\n",
       "      <td>one of the other reviewers has mentioned that ...</td>\n",
       "      <td>positive</td>\n",
       "    </tr>\n",
       "    <tr>\n",
       "      <th>1</th>\n",
       "      <td>a wonderful little production br br the filmin...</td>\n",
       "      <td>positive</td>\n",
       "    </tr>\n",
       "    <tr>\n",
       "      <th>2</th>\n",
       "      <td>i thought this was a wonderful way to spend ti...</td>\n",
       "      <td>positive</td>\n",
       "    </tr>\n",
       "    <tr>\n",
       "      <th>3</th>\n",
       "      <td>basically theres a family where a little boy j...</td>\n",
       "      <td>negative</td>\n",
       "    </tr>\n",
       "    <tr>\n",
       "      <th>4</th>\n",
       "      <td>petter matteis love in the time of money is a ...</td>\n",
       "      <td>positive</td>\n",
       "    </tr>\n",
       "  </tbody>\n",
       "</table>\n",
       "</div>"
      ],
      "text/plain": [
       "                                              review sentiment\n",
       "0  one of the other reviewers has mentioned that ...  positive\n",
       "1  a wonderful little production br br the filmin...  positive\n",
       "2  i thought this was a wonderful way to spend ti...  positive\n",
       "3  basically theres a family where a little boy j...  negative\n",
       "4  petter matteis love in the time of money is a ...  positive"
      ]
     },
     "execution_count": 11,
     "metadata": {},
     "output_type": "execute_result"
    }
   ],
   "source": [
    "df['review']=df['review'].apply(remove_punctuation)\n",
    "df.head(5)"
   ]
  },
  {
   "cell_type": "markdown",
   "id": "9c0080d3",
   "metadata": {},
   "source": [
    "Removing stopwords"
   ]
  },
  {
   "cell_type": "code",
   "execution_count": 12,
   "id": "18722322",
   "metadata": {},
   "outputs": [],
   "source": [
    "from nltk.corpus import stopwords\n",
    "stopwords=set(stopwords.words('english'))\n",
    "\n",
    "def remove_stopwords(text):\n",
    "    clean_text=' '.join([word for word in text.split() if word not in stopwords])\n",
    "    return clean_text"
   ]
  },
  {
   "cell_type": "code",
   "execution_count": 13,
   "id": "e12c3fe6",
   "metadata": {},
   "outputs": [
    {
     "data": {
      "text/html": [
       "<div>\n",
       "<style scoped>\n",
       "    .dataframe tbody tr th:only-of-type {\n",
       "        vertical-align: middle;\n",
       "    }\n",
       "\n",
       "    .dataframe tbody tr th {\n",
       "        vertical-align: top;\n",
       "    }\n",
       "\n",
       "    .dataframe thead th {\n",
       "        text-align: right;\n",
       "    }\n",
       "</style>\n",
       "<table border=\"1\" class=\"dataframe\">\n",
       "  <thead>\n",
       "    <tr style=\"text-align: right;\">\n",
       "      <th></th>\n",
       "      <th>review</th>\n",
       "      <th>sentiment</th>\n",
       "    </tr>\n",
       "  </thead>\n",
       "  <tbody>\n",
       "    <tr>\n",
       "      <th>0</th>\n",
       "      <td>one reviewers mentioned watching 1 oz episode ...</td>\n",
       "      <td>positive</td>\n",
       "    </tr>\n",
       "    <tr>\n",
       "      <th>1</th>\n",
       "      <td>wonderful little production br br filming tech...</td>\n",
       "      <td>positive</td>\n",
       "    </tr>\n",
       "    <tr>\n",
       "      <th>2</th>\n",
       "      <td>thought wonderful way spend time hot summer we...</td>\n",
       "      <td>positive</td>\n",
       "    </tr>\n",
       "    <tr>\n",
       "      <th>3</th>\n",
       "      <td>basically theres family little boy jake thinks...</td>\n",
       "      <td>negative</td>\n",
       "    </tr>\n",
       "    <tr>\n",
       "      <th>4</th>\n",
       "      <td>petter matteis love time money visually stunni...</td>\n",
       "      <td>positive</td>\n",
       "    </tr>\n",
       "  </tbody>\n",
       "</table>\n",
       "</div>"
      ],
      "text/plain": [
       "                                              review sentiment\n",
       "0  one reviewers mentioned watching 1 oz episode ...  positive\n",
       "1  wonderful little production br br filming tech...  positive\n",
       "2  thought wonderful way spend time hot summer we...  positive\n",
       "3  basically theres family little boy jake thinks...  negative\n",
       "4  petter matteis love time money visually stunni...  positive"
      ]
     },
     "execution_count": 13,
     "metadata": {},
     "output_type": "execute_result"
    }
   ],
   "source": [
    "df['review']=df['review'].apply(remove_stopwords)\n",
    "df.head(5)"
   ]
  },
  {
   "cell_type": "markdown",
   "id": "afdf47c6",
   "metadata": {},
   "source": [
    "Handling Emojis"
   ]
  },
  {
   "cell_type": "code",
   "execution_count": 14,
   "id": "94d1456a",
   "metadata": {},
   "outputs": [],
   "source": [
    "import emoji\n",
    "\n",
    "def remove_emoji(text):\n",
    "    emoji_pattern = re.compile(\"[\"\n",
    "                            u\"\\U0001F600-\\U0001F64F\"  # emoticons\n",
    "                            u\"\\U0001F300-\\U0001F5FF\" #symbols, pictograph\n",
    "                            u\"\\U0001F680-\\U0001F6FF\" #transport and map symbol\n",
    "                            u\"\\U0001F1E0-\\U0001F1FF\" # flags(IOS)\n",
    "                            u\"\\U00002702-\\U000027B0\"\n",
    "                            u\"\\U00002FC2-\\U0001F251\"\n",
    "                            \"]+\", flags=re.UNICODE)\n",
    "    return emoji_pattern.sub(r'', text)"
   ]
  },
  {
   "cell_type": "code",
   "execution_count": 15,
   "id": "e1df4327",
   "metadata": {},
   "outputs": [
    {
     "data": {
      "text/html": [
       "<div>\n",
       "<style scoped>\n",
       "    .dataframe tbody tr th:only-of-type {\n",
       "        vertical-align: middle;\n",
       "    }\n",
       "\n",
       "    .dataframe tbody tr th {\n",
       "        vertical-align: top;\n",
       "    }\n",
       "\n",
       "    .dataframe thead th {\n",
       "        text-align: right;\n",
       "    }\n",
       "</style>\n",
       "<table border=\"1\" class=\"dataframe\">\n",
       "  <thead>\n",
       "    <tr style=\"text-align: right;\">\n",
       "      <th></th>\n",
       "      <th>review</th>\n",
       "      <th>sentiment</th>\n",
       "    </tr>\n",
       "  </thead>\n",
       "  <tbody>\n",
       "    <tr>\n",
       "      <th>0</th>\n",
       "      <td>one reviewers mentioned watching 1 oz episode ...</td>\n",
       "      <td>positive</td>\n",
       "    </tr>\n",
       "    <tr>\n",
       "      <th>1</th>\n",
       "      <td>wonderful little production br br filming tech...</td>\n",
       "      <td>positive</td>\n",
       "    </tr>\n",
       "    <tr>\n",
       "      <th>2</th>\n",
       "      <td>thought wonderful way spend time hot summer we...</td>\n",
       "      <td>positive</td>\n",
       "    </tr>\n",
       "    <tr>\n",
       "      <th>3</th>\n",
       "      <td>basically theres family little boy jake thinks...</td>\n",
       "      <td>negative</td>\n",
       "    </tr>\n",
       "    <tr>\n",
       "      <th>4</th>\n",
       "      <td>petter matteis love time money visually stunni...</td>\n",
       "      <td>positive</td>\n",
       "    </tr>\n",
       "  </tbody>\n",
       "</table>\n",
       "</div>"
      ],
      "text/plain": [
       "                                              review sentiment\n",
       "0  one reviewers mentioned watching 1 oz episode ...  positive\n",
       "1  wonderful little production br br filming tech...  positive\n",
       "2  thought wonderful way spend time hot summer we...  positive\n",
       "3  basically theres family little boy jake thinks...  negative\n",
       "4  petter matteis love time money visually stunni...  positive"
      ]
     },
     "execution_count": 15,
     "metadata": {},
     "output_type": "execute_result"
    }
   ],
   "source": [
    "df['review']=df['review'].apply(remove_emoji)\n",
    "df.head(5)"
   ]
  },
  {
   "cell_type": "markdown",
   "id": "f439a786",
   "metadata": {},
   "source": [
    "Tokenization & Lemmatization"
   ]
  },
  {
   "cell_type": "code",
   "execution_count": 16,
   "id": "d6bfc78a",
   "metadata": {},
   "outputs": [
    {
     "name": "stdout",
     "output_type": "stream",
     "text": [
      "one\n",
      "reviewers\n",
      "mentioned\n",
      "watching\n",
      "1\n",
      "oz\n",
      "episode\n",
      "you\n",
      "ll\n",
      "hooked\n",
      "right\n",
      "exactly\n",
      "happened\n",
      "mebr\n",
      "br\n",
      "first\n",
      "thing\n",
      "struck\n",
      "oz\n",
      "brutality\n",
      "unflinching\n",
      "scenes\n",
      "violence\n",
      "set\n",
      "right\n",
      "word\n",
      "go\n",
      "trust\n",
      "show\n",
      "faint\n",
      "hearted\n",
      "timid\n",
      "show\n",
      "pulls\n",
      "punches\n",
      "regards\n",
      "drugs\n",
      "sex\n",
      "violence\n",
      "hardcore\n",
      "classic\n",
      "use\n",
      "wordbr\n",
      "br\n",
      "called\n",
      "oz\n",
      "nickname\n",
      "given\n",
      "oswald\n",
      "maximum\n",
      "security\n",
      "state\n",
      "penitentary\n",
      "focuses\n",
      "mainly\n",
      "emerald\n",
      "city\n",
      "experimental\n",
      "section\n",
      "prison\n",
      "cells\n",
      "glass\n",
      "fronts\n",
      "face\n",
      "inwards\n",
      "privacy\n",
      "high\n",
      "agenda\n",
      "em\n",
      "city\n",
      "home\n",
      "manyaryans\n",
      "muslims\n",
      "gangstas\n",
      "latinos\n",
      "christians\n",
      "italians\n",
      "irish\n",
      "moreso\n",
      "scuffles\n",
      "death\n",
      "stares\n",
      "dodgy\n",
      "dealings\n",
      "shady\n",
      "agreements\n",
      "never\n",
      "far\n",
      "awaybr\n",
      "br\n",
      "would\n",
      "say\n",
      "main\n",
      "appeal\n",
      "show\n",
      "due\n",
      "fact\n",
      "goes\n",
      "shows\n",
      "would\n",
      "nt\n",
      "dare\n",
      "forget\n",
      "pretty\n",
      "pictures\n",
      "painted\n",
      "mainstream\n",
      "audiences\n",
      "forget\n",
      "charm\n",
      "forget\n",
      "romanceoz\n",
      "does\n",
      "nt\n",
      "mess\n",
      "around\n",
      "first\n",
      "episode\n",
      "ever\n",
      "saw\n",
      "struck\n",
      "nasty\n",
      "surreal\n",
      "could\n",
      "nt\n",
      "say\n",
      "ready\n",
      "watched\n",
      "developed\n",
      "taste\n",
      "oz\n",
      "got\n",
      "accustomed\n",
      "high\n",
      "levels\n",
      "graphic\n",
      "violence\n",
      "violence\n",
      "injustice\n",
      "crooked\n",
      "guards\n",
      "who\n",
      "ll\n",
      "sold\n",
      "nickel\n",
      "inmates\n",
      "who\n",
      "ll\n",
      "kill\n",
      "order\n",
      "get\n",
      "away\n",
      "well\n",
      "mannered\n",
      "middle\n",
      "class\n",
      "inmates\n",
      "turned\n",
      "prison\n",
      "bitches\n",
      "due\n",
      "lack\n",
      "street\n",
      "skills\n",
      "prison\n",
      "experience\n",
      "watching\n",
      "oz\n",
      "may\n",
      "become\n",
      "comfortable\n",
      "uncomfortable\n",
      "viewingthats\n",
      "get\n",
      "touch\n",
      "darker\n",
      "side\n",
      "one             NUM      nummod\n",
      "reviewers       NOUN     ROOT\n",
      "mentioned       VERB     acl\n",
      "watching        VERB     xcomp\n",
      "1               NUM      dobj\n",
      "oz              ADP      prep\n",
      "episode         NOUN     pobj\n",
      "you             PRON     nsubj\n",
      "ll              AUX      aux\n",
      "hooked          VERB     ROOT\n",
      "right           ADV      advmod\n",
      "exactly         ADV      advmod\n",
      "happened        VERB     conj\n",
      "mebr            VERB     conj\n",
      "br              PROPN    dobj\n",
      "first           ADJ      amod\n",
      "thing           NOUN     dobj\n",
      "struck          VERB     acl\n",
      "oz              ADP      prep\n",
      "brutality       NOUN     npadvmod\n",
      "unflinching     VERB     amod\n",
      "scenes          NOUN     compound\n",
      "violence        NOUN     pobj\n",
      "set             VERB     acl\n",
      "right           ADJ      amod\n",
      "word            NOUN     dobj\n",
      "go              VERB     dep\n",
      "trust           NOUN     compound\n",
      "show            VERB     nmod\n",
      "faint           ADJ      amod\n",
      "hearted         ADJ      amod\n",
      "timid           ADJ      amod\n",
      "show            NOUN     nsubj\n",
      "pulls           VERB     ccomp\n",
      "punches         NOUN     nsubj\n",
      "regards         VERB     advcl\n",
      "drugs           NOUN     dobj\n",
      "sex             NOUN     compound\n",
      "violence        NOUN     appos\n",
      "hardcore        NOUN     amod\n",
      "classic         ADJ      amod\n",
      "use             NOUN     compound\n",
      "wordbr          PROPN    compound\n",
      "br              PROPN    nsubj\n",
      "called          VERB     acl\n",
      "oz              ADP      prep\n",
      "nickname        NOUN     pobj\n",
      "given           VERB     advcl\n",
      "oswald          PROPN    compound\n",
      "maximum         ADJ      amod\n",
      "security        NOUN     compound\n",
      "state           NOUN     compound\n",
      "penitentary     PROPN    dobj\n",
      "focuses         VERB     ccomp\n",
      "mainly          ADV      advmod\n",
      "emerald         PROPN    compound\n",
      "city            PROPN    compound\n",
      "experimental    PROPN    compound\n",
      "section         NOUN     compound\n",
      "prison          NOUN     compound\n",
      "cells           NOUN     compound\n",
      "glass           VERB     compound\n",
      "fronts          NOUN     nsubj\n",
      "face            VERB     ROOT\n",
      "inwards         VERB     dobj\n",
      "privacy         NOUN     nmod\n",
      "high            ADJ      amod\n",
      "agenda          NOUN     dobj\n",
      "em              PROPN    nmod\n",
      "city            NOUN     compound\n",
      "home            NOUN     compound\n",
      "manyaryans      NOUN     appos\n",
      "muslims         VERB     dobj\n",
      "gangstas        PROPN    compound\n",
      "latinos         PROPN    compound\n",
      "christians      PROPN    compound\n",
      "italians        PROPN    nsubj\n",
      "irish           ADJ      amod\n",
      "moreso          NOUN     dobj\n",
      "scuffles        VERB     conj\n",
      "death           NOUN     compound\n",
      "stares          NOUN     dobj\n",
      "dodgy           VERB     amod\n",
      "dealings        NOUN     dobj\n",
      "shady           ADJ      amod\n",
      "agreements      NOUN     nsubj\n",
      "never           ADV      neg\n",
      "far             ADV      advmod\n",
      "awaybr          PROPN    compound\n",
      "br              PROPN    nsubj\n",
      "would           AUX      aux\n",
      "say             VERB     ccomp\n",
      "main            ADJ      amod\n",
      "appeal          NOUN     compound\n",
      "show            NOUN     nsubj\n",
      "due             ADJ      amod\n",
      "fact            NOUN     appos\n",
      "goes            VERB     ccomp\n",
      "shows           NOUN     nsubj\n",
      "would           AUX      aux\n",
      "nt              PART     neg\n",
      "dare            VERB     advcl\n",
      "forget          VERB     xcomp\n",
      "pretty          ADJ      amod\n",
      "pictures        NOUN     npadvmod\n",
      "painted         VERB     ccomp\n",
      "mainstream      NOUN     compound\n",
      "audiences       NOUN     nsubj\n",
      "forget          VERB     ccomp\n",
      "charm           ADJ      amod\n",
      "forget          NOUN     compound\n",
      "romanceoz       NOUN     nsubj\n",
      "does            AUX      aux\n",
      "nt              PART     neg\n",
      "mess            VERB     ccomp\n",
      "around          ADP      prep\n",
      "first           ADJ      amod\n",
      "episode         NOUN     pobj\n",
      "ever            ADV      advmod\n",
      "saw             VERB     conj\n",
      "struck          VERB     conj\n",
      "nasty           ADJ      amod\n",
      "surreal         ADJ      advmod\n",
      "could           AUX      aux\n",
      "nt              PART     neg\n",
      "say             VERB     conj\n",
      "ready           ADJ      amod\n",
      "watched         VERB     amod\n",
      "developed       VERB     amod\n",
      "taste           NOUN     compound\n",
      "oz              ADP      nsubj\n",
      "got             VERB     ccomp\n",
      "accustomed      ADJ      amod\n",
      "high            ADJ      amod\n",
      "levels          NOUN     nmod\n",
      "graphic         ADJ      amod\n",
      "violence        NOUN     compound\n",
      "violence        NOUN     compound\n",
      "injustice       NOUN     nmod\n",
      "crooked         VERB     amod\n",
      "guards          NOUN     nsubj\n",
      "who             PRON     nsubj\n",
      "ll              AUX      aux\n",
      "sold            VERB     relcl\n",
      "nickel          NOUN     compound\n",
      "inmates         NOUN     dobj\n",
      "who             PRON     nsubj\n",
      "ll              AUX      aux\n",
      "kill            VERB     relcl\n",
      "order           NOUN     dobj\n",
      "get             VERB     ccomp\n",
      "away            ADV      advmod\n",
      "well            ADV      advmod\n",
      "mannered        ADJ      amod\n",
      "middle          ADJ      amod\n",
      "class           NOUN     compound\n",
      "inmates         NOUN     nsubj\n",
      "turned          VERB     ccomp\n",
      "prison          NOUN     compound\n",
      "bitches         NOUN     dobj\n",
      "due             ADJ      amod\n",
      "lack            NOUN     compound\n",
      "street          NOUN     compound\n",
      "skills          VERB     compound\n",
      "prison          NOUN     compound\n",
      "experience      NOUN     nsubj\n",
      "watching        VERB     acl\n",
      "oz              NOUN     dobj\n",
      "may             AUX      aux\n",
      "become          VERB     conj\n",
      "comfortable     ADJ      amod\n",
      "uncomfortable   ADJ      amod\n",
      "viewingthats    NOUN     nsubj\n",
      "get             VERB     ccomp\n",
      "touch           NOUN     dobj\n",
      "darker          ADJ      amod\n",
      "side            NOUN     dobj\n"
     ]
    }
   ],
   "source": [
    "import spacy\n",
    "nlp=spacy.load('en_core_web_sm')\n",
    "\n",
    "text = df['review'][0]\n",
    "doc = nlp(text)\n",
    "\n",
    "for token in doc:\n",
    "    print(token.text)\n",
    "\n",
    "for token in doc:\n",
    "    print(f\"{token.text:{15}} {token.pos_:{8}} {token.dep_}\")"
   ]
  },
  {
   "cell_type": "markdown",
   "id": "b3593443",
   "metadata": {},
   "source": [
    "Stemming"
   ]
  },
  {
   "cell_type": "code",
   "execution_count": 17,
   "id": "620bd174",
   "metadata": {},
   "outputs": [],
   "source": [
    "from nltk.stem.porter import PorterStemmer\n",
    "ps=PorterStemmer()\n",
    "\n",
    "def stemming(text):\n",
    "    stem_text=' '.join([ps.stem(word) for word in text.split()])\n",
    "    return stem_text"
   ]
  },
  {
   "cell_type": "code",
   "execution_count": 18,
   "id": "04c3852c",
   "metadata": {},
   "outputs": [
    {
     "data": {
      "text/html": [
       "<div>\n",
       "<style scoped>\n",
       "    .dataframe tbody tr th:only-of-type {\n",
       "        vertical-align: middle;\n",
       "    }\n",
       "\n",
       "    .dataframe tbody tr th {\n",
       "        vertical-align: top;\n",
       "    }\n",
       "\n",
       "    .dataframe thead th {\n",
       "        text-align: right;\n",
       "    }\n",
       "</style>\n",
       "<table border=\"1\" class=\"dataframe\">\n",
       "  <thead>\n",
       "    <tr style=\"text-align: right;\">\n",
       "      <th></th>\n",
       "      <th>review</th>\n",
       "      <th>sentiment</th>\n",
       "    </tr>\n",
       "  </thead>\n",
       "  <tbody>\n",
       "    <tr>\n",
       "      <th>0</th>\n",
       "      <td>one review mention watch 1 oz episod youll hoo...</td>\n",
       "      <td>positive</td>\n",
       "    </tr>\n",
       "    <tr>\n",
       "      <th>1</th>\n",
       "      <td>wonder littl product br br film techniqu unass...</td>\n",
       "      <td>positive</td>\n",
       "    </tr>\n",
       "    <tr>\n",
       "      <th>2</th>\n",
       "      <td>thought wonder way spend time hot summer weeke...</td>\n",
       "      <td>positive</td>\n",
       "    </tr>\n",
       "    <tr>\n",
       "      <th>3</th>\n",
       "      <td>basic there famili littl boy jake think there ...</td>\n",
       "      <td>negative</td>\n",
       "    </tr>\n",
       "    <tr>\n",
       "      <th>4</th>\n",
       "      <td>petter mattei love time money visual stun film...</td>\n",
       "      <td>positive</td>\n",
       "    </tr>\n",
       "  </tbody>\n",
       "</table>\n",
       "</div>"
      ],
      "text/plain": [
       "                                              review sentiment\n",
       "0  one review mention watch 1 oz episod youll hoo...  positive\n",
       "1  wonder littl product br br film techniqu unass...  positive\n",
       "2  thought wonder way spend time hot summer weeke...  positive\n",
       "3  basic there famili littl boy jake think there ...  negative\n",
       "4  petter mattei love time money visual stun film...  positive"
      ]
     },
     "execution_count": 18,
     "metadata": {},
     "output_type": "execute_result"
    }
   ],
   "source": [
    "df['review']=df['review'].apply(stemming)\n",
    "df.head(5)"
   ]
  },
  {
   "cell_type": "markdown",
   "id": "f03a39c4",
   "metadata": {},
   "source": [
    "Bag of Words"
   ]
  },
  {
   "cell_type": "code",
   "execution_count": 19,
   "id": "68ff2385",
   "metadata": {},
   "outputs": [
    {
     "data": {
      "text/plain": [
       "(50000, 5000)"
      ]
     },
     "execution_count": 19,
     "metadata": {},
     "output_type": "execute_result"
    }
   ],
   "source": [
    "from sklearn.feature_extraction.text import CountVectorizer\n",
    "\n",
    "cv=CountVectorizer(max_features=5000)\n",
    "x=cv.fit_transform(df['review']).toarray()\n",
    "x.shape"
   ]
  },
  {
   "cell_type": "markdown",
   "id": "260dad08",
   "metadata": {},
   "source": [
    "TF-IDF"
   ]
  },
  {
   "cell_type": "code",
   "execution_count": 20,
   "id": "7499d7ad",
   "metadata": {},
   "outputs": [
    {
     "data": {
      "text/plain": [
       "(50000, 5000)"
      ]
     },
     "execution_count": 20,
     "metadata": {},
     "output_type": "execute_result"
    }
   ],
   "source": [
    "from sklearn.feature_extraction.text import TfidfVectorizer\n",
    "\n",
    "tfidf=TfidfVectorizer(max_features=5000)\n",
    "x=tfidf.fit_transform(df['review']).toarray()\n",
    "x.shape"
   ]
  },
  {
   "cell_type": "markdown",
   "id": "f156fc85",
   "metadata": {},
   "source": [
    "Word2Vec"
   ]
  },
  {
   "cell_type": "code",
   "execution_count": 21,
   "id": "4da85014",
   "metadata": {},
   "outputs": [
    {
     "name": "stdout",
     "output_type": "stream",
     "text": [
      "vector of word similar to \"good\" : [('decent', 0.7780025601387024), ('great', 0.7002626061439514), ('bad', 0.6781166791915894), ('cool', 0.6393496990203857), ('nice', 0.6280979514122009), ('alright', 0.6093308925628662), ('fine', 0.6019327044487), ('excel', 0.5941855311393738), ('ok', 0.5902559161186218), ('goodbr', 0.5698915719985962)]\n",
      "vector of word doesnt match:wonderful\n"
     ]
    }
   ],
   "source": [
    "from gensim.models import Word2Vec\n",
    "\n",
    "w2v_sentences = [text.split() for text in df['review']]\n",
    "w2v_model = Word2Vec(sentences=w2v_sentences, vector_size=100, window=5, min_count=2)\n",
    "\n",
    "w2v_model.save('w2vec_model')\n",
    "w2v_model = Word2Vec.load('w2vec_model')\n",
    "\n",
    "print(f'vector of word similar to \"good\" : {w2v_model.wv.most_similar(\"good\")}')\n",
    "print(f'vector of word doesnt match:{w2v_model.wv.doesnt_match(['good', 'amazing', 'great', 'wonderful', 'bad', 'terrible'])}')"
   ]
  },
  {
   "cell_type": "markdown",
   "id": "56fc9212",
   "metadata": {},
   "source": [
    "Change review to single vector"
   ]
  },
  {
   "cell_type": "code",
   "execution_count": 22,
   "id": "6d90502c",
   "metadata": {},
   "outputs": [
    {
     "name": "stdout",
     "output_type": "stream",
     "text": [
      "0    [0.0026047134, 0.029629441, 0.06875044, -0.009...\n",
      "1    [0.02526723, 0.08356744, -0.06838195, 0.023205...\n",
      "2    [0.08333663, 0.095209174, -0.02101753, 0.02936...\n",
      "3    [0.07073688, 0.032580182, 0.035781965, 0.00609...\n",
      "4    [0.028461406, 0.08411976, 0.013488655, -0.0299...\n",
      "Name: review_vector, dtype: object\n"
     ]
    }
   ],
   "source": [
    "def get_review_vector(review, w2v_model):\n",
    "    if not review:\n",
    "        return np.zeros(w2v_model.vector_size)\n",
    "    \n",
    "    words = (review).split()\n",
    "    valid_words = [word for word in words if word in w2v_model.wv.key_to_index]\n",
    "\n",
    "    if len(valid_words) == 0:\n",
    "        return np.zeros(w2v_model.vector_size)\n",
    "\n",
    "    vector = np.mean([w2v_model.wv[word] for word in valid_words], axis=0)\n",
    "    return vector / np.linalg.norm(vector) # normalize vector\n",
    "\n",
    "# apply to all reviews\n",
    "df['review_vector'] = df['review'].apply(lambda x: get_review_vector(x, w2v_model))\n",
    "print(df['review_vector'].head())\n",
    "    "
   ]
  },
  {
   "cell_type": "markdown",
   "id": "16ee369d",
   "metadata": {},
   "source": [
    "Train Test Split"
   ]
  },
  {
   "cell_type": "code",
   "execution_count": 23,
   "id": "b39b8938",
   "metadata": {},
   "outputs": [
    {
     "name": "stdout",
     "output_type": "stream",
     "text": [
      "Training data shape: (40000, 100)\n",
      "Test data shape: (10000, 100)\n",
      "Training labels shape: (40000,)\n",
      "Test labels shape: (10000,)\n"
     ]
    }
   ],
   "source": [
    "from sklearn.model_selection import train_test_split\n",
    "\n",
    "X = np.array([get_review_vector(review, w2v_model) for review in df['review']])\n",
    "\n",
    "y = df['sentiment'].map({'positive':1, 'negative':0}).values\n",
    "\n",
    "X_train, X_test, y_train, y_test = train_test_split(X, y, test_size=0.2, random_state=42)\n",
    "\n",
    "print(f\"Training data shape: {X_train.shape}\")\n",
    "print(f\"Test data shape: {X_test.shape}\")\n",
    "print(f\"Training labels shape: {y_train.shape}\")\n",
    "print(f\"Test labels shape: {y_test.shape}\")"
   ]
  },
  {
   "cell_type": "markdown",
   "id": "20d336a3",
   "metadata": {},
   "source": [
    "## ML models\n",
    "* Logistic Regression\n",
    "* SVM\n",
    "* Random Forest\n",
    "* Gradient Boosting"
   ]
  },
  {
   "cell_type": "markdown",
   "id": "e66f06f3",
   "metadata": {},
   "source": [
    "Logistic Regression"
   ]
  },
  {
   "cell_type": "code",
   "execution_count": 24,
   "id": "176f1338",
   "metadata": {},
   "outputs": [
    {
     "name": "stdout",
     "output_type": "stream",
     "text": [
      "Accuracy: 0.8568\n",
      "Classification report:               precision    recall  f1-score   support\n",
      "\n",
      "           0       0.86      0.85      0.86      4961\n",
      "           1       0.86      0.86      0.86      5039\n",
      "\n",
      "    accuracy                           0.86     10000\n",
      "   macro avg       0.86      0.86      0.86     10000\n",
      "weighted avg       0.86      0.86      0.86     10000\n",
      "\n",
      "Confussion matrix: [[4228  733]\n",
      " [ 699 4340]]\n",
      "Cross validation score: 0.8600 (+/- 0.0086)\n"
     ]
    }
   ],
   "source": [
    "from sklearn.linear_model import LogisticRegression\n",
    "from sklearn.metrics import accuracy_score, classification_report, confusion_matrix\n",
    "from sklearn.model_selection import cross_val_score\n",
    "\n",
    "model_lore = LogisticRegression()\n",
    "\n",
    "model_lore.fit(X_train, y_train)\n",
    "lore_pred = model_lore.predict(X_test)\n",
    "\n",
    "print(f\"Accuracy: {accuracy_score(y_test, lore_pred)}\") # Accuracy report\n",
    "print(f\"Classification report: {classification_report(y_test, lore_pred)}\") # Classification report\n",
    "print(f\"Confussion matrix: {confusion_matrix(y_test, lore_pred)}\") # Confusion matrix\n",
    "\n",
    "rf_score = cross_val_score(model_lore, X, y, cv=5)\n",
    "print(f\"Cross validation score: {rf_score.mean():.4f} (+/- {rf_score.std() * 2:.4f})\")"
   ]
  },
  {
   "cell_type": "markdown",
   "id": "4639825d",
   "metadata": {},
   "source": [
    "SVM"
   ]
  },
  {
   "cell_type": "code",
   "execution_count": 25,
   "id": "83dd23ee",
   "metadata": {},
   "outputs": [
    {
     "name": "stdout",
     "output_type": "stream",
     "text": [
      "Accuracy: 0.8466\n",
      "Classification report:               precision    recall  f1-score   support\n",
      "\n",
      "           0       0.85      0.84      0.85      4961\n",
      "           1       0.85      0.85      0.85      5039\n",
      "\n",
      "    accuracy                           0.85     10000\n",
      "   macro avg       0.85      0.85      0.85     10000\n",
      "weighted avg       0.85      0.85      0.85     10000\n",
      "\n",
      "Confussion matrix: [[4183  778]\n",
      " [ 756 4283]]\n",
      "Cross validation score: 0.8481 (+/- 0.0086)\n"
     ]
    }
   ],
   "source": [
    "from sklearn.svm import SVC\n",
    "\n",
    "model_svc = SVC(kernel='rbf', gamma='auto', random_state=42)\n",
    "\n",
    "model_svc.fit(X_train, y_train)\n",
    "svc_pred = model_svc.predict(X_test)\n",
    "\n",
    "print(f\"Accuracy: {accuracy_score(y_test, svc_pred)}\") # Accuracy report\n",
    "print(f\"Classification report: {classification_report(y_test, svc_pred)}\") # Classification report\n",
    "print(f\"Confussion matrix: {confusion_matrix(y_test, svc_pred)}\") # Confusion matrix\n",
    "\n",
    "scv_score = cross_val_score(model_svc, X, y, cv=5)\n",
    "print(f\"Cross validation score: {scv_score.mean():.4f} (+/- {scv_score.std() * 2:.4f})\")"
   ]
  },
  {
   "cell_type": "markdown",
   "id": "183c1a66",
   "metadata": {},
   "source": [
    "Random Forest"
   ]
  },
  {
   "cell_type": "code",
   "execution_count": 26,
   "id": "4357c0f1",
   "metadata": {},
   "outputs": [
    {
     "name": "stdout",
     "output_type": "stream",
     "text": [
      "Accuracy: 0.8228\n",
      "Classification report:               precision    recall  f1-score   support\n",
      "\n",
      "           0       0.84      0.80      0.82      4961\n",
      "           1       0.81      0.85      0.83      5039\n",
      "\n",
      "    accuracy                           0.82     10000\n",
      "   macro avg       0.82      0.82      0.82     10000\n",
      "weighted avg       0.82      0.82      0.82     10000\n",
      "\n",
      "Confussion matrix: [[3970  991]\n",
      " [ 781 4258]]\n",
      "Cross validation score: 0.8270 (+/- 0.0029)\n"
     ]
    }
   ],
   "source": [
    "from sklearn.ensemble import RandomForestClassifier\n",
    "\n",
    "model_rf = RandomForestClassifier(n_estimators=100, random_state=42, max_depth=10)\n",
    "\n",
    "model_rf.fit(X_train, y_train)\n",
    "rf_pred = model_rf.predict(X_test)\n",
    "\n",
    "print(f\"Accuracy: {accuracy_score(y_test, rf_pred)}\") # Accuracy report\n",
    "print(f\"Classification report: {classification_report(y_test, rf_pred)}\") # Classification report\n",
    "print(f\"Confussion matrix: {confusion_matrix(y_test, rf_pred)}\") # Confusion matrix\n",
    "\n",
    "rf_score = cross_val_score(model_rf, X, y, cv=5)\n",
    "print(f\"Cross validation score: {rf_score.mean():.4f} (+/- {rf_score.std() * 2:.4f})\")"
   ]
  },
  {
   "cell_type": "markdown",
   "id": "29779c9e",
   "metadata": {},
   "source": [
    "Gradient Boosting"
   ]
  },
  {
   "cell_type": "code",
   "execution_count": 27,
   "id": "7d61770e",
   "metadata": {},
   "outputs": [
    {
     "name": "stdout",
     "output_type": "stream",
     "text": [
      "Accuracy: 0.8428\n",
      "Classification report:               precision    recall  f1-score   support\n",
      "\n",
      "           0       0.84      0.84      0.84      4961\n",
      "           1       0.84      0.85      0.84      5039\n",
      "\n",
      "    accuracy                           0.84     10000\n",
      "   macro avg       0.84      0.84      0.84     10000\n",
      "weighted avg       0.84      0.84      0.84     10000\n",
      "\n",
      "Confussion matrix: [[4151  810]\n",
      " [ 762 4277]]\n",
      "Cross validation score: 0.8424 (+/- 0.0052)\n"
     ]
    }
   ],
   "source": [
    "from sklearn.ensemble import GradientBoostingClassifier\n",
    "\n",
    "model_gb = GradientBoostingClassifier(n_estimators=100, random_state=42, max_depth=5, min_samples_leaf=3, learning_rate=0.5, min_samples_split=3)\n",
    "\n",
    "model_gb.fit(X_train, y_train)\n",
    "gb_pred = model_gb.predict(X_test)\n",
    "\n",
    "print(f\"Accuracy: {accuracy_score(y_test, gb_pred)}\") # Accuracy report\n",
    "print(f\"Classification report: {classification_report(y_test, gb_pred)}\") # Classification report\n",
    "print(f\"Confussion matrix: {confusion_matrix(y_test, gb_pred)}\") # Confusion matrix\n",
    "\n",
    "gb_score = cross_val_score(model_gb, X, y, cv=5)\n",
    "print(f\"Cross validation score: {gb_score.mean():.4f} (+/- {gb_score.std() * 2:.4f})\")"
   ]
  },
  {
   "cell_type": "markdown",
   "id": "c36dc718",
   "metadata": {},
   "source": [
    "Hyperparameter Tuning"
   ]
  },
  {
   "cell_type": "code",
   "execution_count": null,
   "id": "93fc11b2",
   "metadata": {},
   "outputs": [],
   "source": [
    "from sklearn.model_selection import GridSearchCV\n",
    "\n"
   ]
  }
 ],
 "metadata": {
  "kernelspec": {
   "display_name": ".venv",
   "language": "python",
   "name": "python3"
  },
  "language_info": {
   "codemirror_mode": {
    "name": "ipython",
    "version": 3
   },
   "file_extension": ".py",
   "mimetype": "text/x-python",
   "name": "python",
   "nbconvert_exporter": "python",
   "pygments_lexer": "ipython3",
   "version": "3.12.5"
  }
 },
 "nbformat": 4,
 "nbformat_minor": 5
}
